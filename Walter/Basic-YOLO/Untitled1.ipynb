{
 "cells": [
  {
   "cell_type": "markdown",
   "metadata": {},
   "source": [
    "# Loading and images augmentation\n",
    "\n",
    "### Structure of img annotation:\n",
    "```python\n",
    "img = {\n",
    "    'filename': string\n",
    "    'width': int,\n",
    "    'height': int,\n",
    "    'object': [\n",
    "        {\n",
    "            'name': string,  # label name\n",
    "            'xmin': int,\n",
    "            'ymin': int,\n",
    "            'xmax': int,\n",
    "            'ymax': int\n",
    "        }, ...\n",
    "    ]\n",
    "}\n",
    "```"
   ]
  },
  {
   "cell_type": "code",
   "execution_count": 1,
   "metadata": {},
   "outputs": [],
   "source": [
    "import os\n",
    "import cv2\n",
    "import csv\n",
    "import sys\n",
    "import json\n",
    "import numpy as np\n",
    "import pandas as pd\n",
    "\n",
    "from PIL import Image\n",
    "from tqdm import tqdm, tqdm_notebook\n",
    "\n",
    "%matplotlib inline\n",
    "\n",
    "sys.path.insert(0, '/home/oem/PycharmProjects/tensorflow_yolo/basic-yolo-keras')"
   ]
  },
  {
   "cell_type": "code",
   "execution_count": 2,
   "metadata": {},
   "outputs": [
    {
     "name": "stderr",
     "output_type": "stream",
     "text": [
      "/usr/local/lib/python3.6/dist-packages/h5py/__init__.py:36: FutureWarning: Conversion of the second argument of issubdtype from `float` to `np.floating` is deprecated. In future, it will be treated as `np.float64 == np.dtype(float).type`.\n",
      "  from ._conv import register_converters as _register_converters\n",
      "Using TensorFlow backend.\n"
     ]
    }
   ],
   "source": [
    "from preprocessing import *"
   ]
  },
  {
   "cell_type": "code",
   "execution_count": 3,
   "metadata": {},
   "outputs": [],
   "source": [
    "lcrowdw_settings = {\n",
    "    'datasets_path': '/media/oem/022cfb2b-3c52-4dfe-a5fb-c5fe826db5e3/Downloads/lcrowdw',\n",
    "    'scene_type': [\n",
    "        # 'shibuya_var/bright', 'shibuya_var/dim',\n",
    "          'shop_var/bright', 'shop_var/dim',\n",
    "        # 'subway_var/bright', 'subway_var/dim'\n",
    "    ],\n",
    "    'people_dense_type': [\n",
    "        'p_hd_hpc_hp',\n",
    "        # 'p_ld_lpc_hp',\n",
    "        # 'p_md_mpc_hp'\n",
    "    ],\n",
    "    'images_subdir': 'png',\n",
    "    'bb_subdir': 'bb'\n",
    "}\n",
    "\n",
    "class Rectangle:\n",
    "    def __init__(self, x_min, x_max, y_min, y_max):\n",
    "        self.x_min = x_min\n",
    "        self.x_max = x_max\n",
    "        self.y_min = y_min\n",
    "        self.y_max = y_max\n",
    "        \n",
    "        self.x_lenght = np.abs(x_min - x_max)\n",
    "        self.y_lenght = np.abs(y_min - y_max)\n",
    "        \n",
    "        self.area = self.x_lenght * self.y_lenght\n",
    "        \n",
    "    def __lt__(self, rectangle):\n",
    "        return self.area < rectangle.area\n",
    "    \n",
    "    def __eq__(self, rectangle):\n",
    "        return self.x_min == rectangle.x_min \\\n",
    "            and self.x_max == rectangle.x_max \\\n",
    "            and self.y_min == rectangle.y_min \\\n",
    "            and self.y_max == rectangle.y_max\n",
    "        \n",
    "    def has_intersection(self, rectangle):\n",
    "        hoverlaps = not((self.x_min > rectangle.x_max) or (self.x_max < rectangle.x_min))\n",
    "        voverlaps = not((self.y_max < rectangle.y_min) or (self.y_min > rectangle.y_max))\n",
    "        return hoverlaps and voverlaps\n",
    "        \n",
    "    def intersection_percent(self, rectangle):\n",
    "        if not self.has_intersection(rectangle):\n",
    "            return 0.0\n",
    "        \n",
    "        intersection_width = np.abs(min(self.x_max, rectangle.x_max) - max(self.x_min, rectangle.x_min))\n",
    "        intersection_height = np.abs(min(self.y_max, rectangle.y_max) - max(self.y_min, rectangle.y_min))\n",
    "        intersection_area = intersection_width * intersection_height\n",
    "        return (intersection_area / self.area) * 100"
   ]
  },
  {
   "cell_type": "code",
   "execution_count": 4,
   "metadata": {},
   "outputs": [],
   "source": [
    "def _parse_annotation_lcrowdw(bb_dir, images_dir):\n",
    "    imgs = []\n",
    "\n",
    "    def get_sorted_filenamelist(path, ext):\n",
    "        return sorted(\n",
    "            map(lambda filename: os.path.join(path, filename),\n",
    "                filter(lambda filename: filename.endswith(ext),\n",
    "                       os.listdir(path))))\n",
    "\n",
    "    for image_path, ann_path in zip(get_sorted_filenamelist(images_dir, 'png'),\n",
    "                                    get_sorted_filenamelist(bb_dir, 'csv')):\n",
    "        img = {}\n",
    "        img['filename'] = image_path\n",
    "        img['width'], img['height'] = Image.open(image_path).size\n",
    "        \n",
    "        with open(ann_path) as csv_annot:\n",
    "            reader = csv.reader(csv_annot, delimiter=',')\n",
    "            annotations = [\n",
    "                Rectangle(x_min=round(float(row[1])),\n",
    "                          x_max=round(float(row[3])),\n",
    "                          y_min=round(float(row[2])),\n",
    "                          y_max=round(float(row[4])))\n",
    "                for row in reader\n",
    "            ]\n",
    "            annotations = list(filter(lambda ann: not np.any([ann.intersection_percent(ann_) >= 60.0 \n",
    "                                                          for ann_ in filter(lambda x: x != ann, annotations)]), \n",
    "                                      annotations))\n",
    "            img['object'] = [\n",
    "                {\n",
    "                    'name': 'person',\n",
    "                    'xmin': ann.x_min,\n",
    "                    'ymin': ann.y_min,\n",
    "                    'xmax': ann.x_max,\n",
    "                    'ymax': ann.y_max\n",
    "                }\n",
    "                for ann in sorted(annotations)[-20:]\n",
    "            ]\n",
    "        imgs.append(img)\n",
    "\n",
    "    return imgs\n",
    "\n",
    "\n",
    "def _load_all_lcrowdw_annotations(lcrowdw_settings):\n",
    "    all_imgs = []\n",
    "\n",
    "    for scene_type in lcrowdw_settings['scene_type']:\n",
    "        for people_dense_type in lcrowdw_settings['people_dense_type']:\n",
    "            imgs = _parse_annotation_lcrowdw(\n",
    "                os.path.join(lcrowdw_settings['datasets_path'], scene_type, people_dense_type,\n",
    "                             lcrowdw_settings['bb_subdir']),\n",
    "                os.path.join(lcrowdw_settings['datasets_path'],\n",
    "                             scene_type, people_dense_type,\n",
    "                             lcrowdw_settings['images_subdir'])\n",
    "            )\n",
    "            all_imgs += imgs\n",
    "\n",
    "    return all_imgs"
   ]
  },
  {
   "cell_type": "code",
   "execution_count": 5,
   "metadata": {},
   "outputs": [],
   "source": [
    "data = _load_all_lcrowdw_annotations(lcrowdw_settings)"
   ]
  },
  {
   "cell_type": "code",
   "execution_count": 6,
   "metadata": {},
   "outputs": [
    {
     "data": {
      "text/html": [
       "<p>Failed to display Jupyter Widget of type <code>HBox</code>.</p>\n",
       "<p>\n",
       "  If you're reading this message in the Jupyter Notebook or JupyterLab Notebook, it may mean\n",
       "  that the widgets JavaScript is still loading. If this message persists, it\n",
       "  likely means that the widgets JavaScript library is either not installed or\n",
       "  not enabled. See the <a href=\"https://ipywidgets.readthedocs.io/en/stable/user_install.html\">Jupyter\n",
       "  Widgets Documentation</a> for setup instructions.\n",
       "</p>\n",
       "<p>\n",
       "  If you're reading this message in another frontend (for example, a static\n",
       "  rendering on GitHub or <a href=\"https://nbviewer.jupyter.org/\">NBViewer</a>),\n",
       "  it may mean that your frontend doesn't currently support widgets.\n",
       "</p>\n"
      ],
      "text/plain": [
       "HBox(children=(IntProgress(value=0, max=9826), HTML(value='')))"
      ]
     },
     "metadata": {},
     "output_type": "execute_result"
    },
    {
     "name": "stdout",
     "output_type": "stream",
     "text": [
      "\n"
     ]
    }
   ],
   "source": [
    "import xml.etree.ElementTree as ET\n",
    "from xml.dom import minidom\n",
    "\n",
    "\n",
    "def prettify(elem):\n",
    "    rough_string = ET.tostring(elem, 'utf-8')\n",
    "    reparsed = minidom.parseString(rough_string)\n",
    "    return reparsed.toprettyxml(indent='\\t')\n",
    "\n",
    "\n",
    "for img in tqdm_notebook(data):\n",
    "    main = ET.Element('annotation', attrib={'verified': 'no'})\n",
    "    ET.SubElement(main, 'folder').text = 'png'\n",
    "    ET.SubElement(main, 'filename').text = os.path.split(img['filename'])[1]\n",
    "    ET.SubElement(main, 'path').text = img['filename']\n",
    "    ET.SubElement(main, 'segmented').text = '0'\n",
    "\n",
    "    source = ET.SubElement(main, 'segmented')\n",
    "    ET.SubElement(source, 'database').text = 'Unknown'\n",
    "\n",
    "    size = ET.SubElement(main, 'size')\n",
    "    ET.SubElement(size, 'width').text = str(img['width'])\n",
    "    ET.SubElement(size, 'height').text = str(img['height'])\n",
    "    ET.SubElement(size, 'depth').text = '3'\n",
    "\n",
    "    for img_obj in img['object']:\n",
    "        obj = ET.SubElement(main, 'object')\n",
    "        ET.SubElement(obj, 'name').text = 'person'\n",
    "        ET.SubElement(obj, 'pose').text = 'Unspecified'\n",
    "        ET.SubElement(obj, 'truncated').text = '0'\n",
    "        ET.SubElement(obj, 'difficult').text = '0'\n",
    "\n",
    "        bbox = ET.SubElement(obj, 'bndbox')\n",
    "        ET.SubElement(bbox, 'xmin').text = str(img_obj['xmin'])\n",
    "        ET.SubElement(bbox, 'ymin').text = str(img_obj['ymin'])\n",
    "        ET.SubElement(bbox, 'xmax').text = str(img_obj['xmax'])\n",
    "        ET.SubElement(bbox, 'ymax').text = str(img_obj['ymax'])\n",
    "\n",
    "    path, filename = os.path.split(img['filename'])\n",
    "    with open(os.path.join(path, filename[:-4] + '.xml'), 'w') as f:\n",
    "        f.write(prettify(main))\n",
    "    "
   ]
  },
  {
   "cell_type": "code",
   "execution_count": 7,
   "metadata": {},
   "outputs": [
    {
     "data": {
      "text/html": [
       "<p>Failed to display Jupyter Widget of type <code>HBox</code>.</p>\n",
       "<p>\n",
       "  If you're reading this message in the Jupyter Notebook or JupyterLab Notebook, it may mean\n",
       "  that the widgets JavaScript is still loading. If this message persists, it\n",
       "  likely means that the widgets JavaScript library is either not installed or\n",
       "  not enabled. See the <a href=\"https://ipywidgets.readthedocs.io/en/stable/user_install.html\">Jupyter\n",
       "  Widgets Documentation</a> for setup instructions.\n",
       "</p>\n",
       "<p>\n",
       "  If you're reading this message in another frontend (for example, a static\n",
       "  rendering on GitHub or <a href=\"https://nbviewer.jupyter.org/\">NBViewer</a>),\n",
       "  it may mean that your frontend doesn't currently support widgets.\n",
       "</p>\n"
      ],
      "text/plain": [
       "HBox(children=(IntProgress(value=0, max=6653), HTML(value='')))"
      ]
     },
     "metadata": {},
     "output_type": "execute_result"
    },
    {
     "name": "stdout",
     "output_type": "stream",
     "text": [
      "\n"
     ]
    }
   ],
   "source": [
    "ann_path = '/media/oem/022cfb2b-3c52-4dfe-a5fb-c5fe826db5e3/Downloads/lcrowdw/shop_var/bright/p_hd_hpc_hp/png/'\n",
    "\n",
    "imgs = []\n",
    "for item in tqdm_notebook(os.listdir(ann_path)):\n",
    "    if not item.endswith('xml'):\n",
    "        continue\n",
    "    tree = ET.parse(os.path.join(ann_path, item))\n",
    "    \n",
    "    if 'verified' in tree.getroot().attrib and tree.getroot().attrib['verified'] != 'yes':\n",
    "        continue\n",
    "        \n",
    "    img = {}\n",
    "    img['filename'] = tree.find('path').text\n",
    "    img['width'], img['height'] = int(tree.find('size').find('width').text), int(tree.find('size').find('height').text)\n",
    "\n",
    "    img['object'] = [\n",
    "                {\n",
    "                    'name': 'person',\n",
    "                    'xmin': int(obj.find('bndbox').find('xmin').text),\n",
    "                    'ymin': int(obj.find('bndbox').find('ymin').text),\n",
    "                    'xmax': int(obj.find('bndbox').find('xmax').text),\n",
    "                    'ymax': int(obj.find('bndbox').find('ymax').text)\n",
    "                }\n",
    "                for obj in tree.findall('object')\n",
    "            ]\n",
    "    imgs.append(img)\n",
    "    \n",
    "with open(os.path.join(ann_path, 'annotations.pickle'), 'wb') as f:\n",
    "    pickle.dump(imgs, f)"
   ]
  },
  {
   "cell_type": "code",
   "execution_count": 8,
   "metadata": {},
   "outputs": [],
   "source": [
    "ann_path = '/media/oem/022cfb2b-3c52-4dfe-a5fb-c5fe826db5e3/Downloads/lcrowdw/shop_var/bright/p_hd_hpc_hp/png/'\n",
    "with open(os.path.join(ann_path, 'annotations.pickle'), 'rb') as f:\n",
    "    data = pickle.load(f)"
   ]
  },
  {
   "cell_type": "code",
   "execution_count": 9,
   "metadata": {},
   "outputs": [],
   "source": [
    "generator_config = {\n",
    "    'IMAGE_H'         : 500, \n",
    "    'IMAGE_W'         : 500,\n",
    "    'GRID_H'          : 20,  \n",
    "    'GRID_W'          : 20,\n",
    "    'BOX'             : 5,\n",
    "    'LABELS'          : ['person'],\n",
    "    'CLASS'           : 1,\n",
    "    'ANCHORS'         : [0.57273, 0.677385, 1.87446, 2.06253, 3.33843, 5.47434, 7.88282, 3.52778, 9.77052, 9.16828],\n",
    "    'BATCH_SIZE'      : 16,\n",
    "    'TRUE_BOX_BUFFER' : 50,\n",
    "}"
   ]
  },
  {
   "cell_type": "code",
   "execution_count": 10,
   "metadata": {},
   "outputs": [],
   "source": [
    "batches = BatchGenerator(data, generator_config)"
   ]
  },
  {
   "cell_type": "code",
   "execution_count": 12,
   "metadata": {
    "scrolled": false
   },
   "outputs": [
    {
     "name": "stderr",
     "output_type": "stream",
     "text": [
      "/usr/local/lib/python3.6/dist-packages/ipykernel_launcher.py:12: RuntimeWarning: invalid value encountered in true_divide\n",
      "  if sys.path[0] == '':\n",
      "/usr/local/lib/python3.6/dist-packages/numpy/core/_methods.py:29: RuntimeWarning: invalid value encountered in reduce\n",
      "  return umr_minimum(a, axis, None, out, keepdims)\n"
     ]
    },
    {
     "data": {
      "image/png": "[encoded data removed]",
      "text/plain": [
       "<matplotlib.figure.Figure at 0x7f05c6df5128>"
      ]
     },
     "metadata": {},
     "output_type": "display_data"
    }
   ],
   "source": [
    "import matplotlib.pyplot as plt\n",
    "import cv2\n",
    "\n",
    "\n",
    "def imshow_grid(data, height=None, width=None, normalize=False, padsize=1, padval=0):\n",
    "    '''\n",
    "    Take an array of shape (N, H, W) or (N, H, W, C)\n",
    "    and visualize each (H, W) image in a grid style (height x width).\n",
    "    '''\n",
    "    if normalize:\n",
    "        data -= data.min()\n",
    "        data /= data.max()\n",
    "\n",
    "    N = data.shape[0]\n",
    "    if height is None:\n",
    "        if width is None:\n",
    "            height = int(np.ceil(np.sqrt(N)))\n",
    "        else:\n",
    "            height = int(np.ceil( N / float(width) ))\n",
    "\n",
    "    if width is None:\n",
    "        width = int(np.ceil( N / float(height) ))\n",
    "\n",
    "    assert height * width >= N\n",
    "\n",
    "    # append padding\n",
    "    padding = ((0, (width*height) - data.shape[0]), (0, padsize), (0, padsize)) + ((0, 0),) * (data.ndim - 3)\n",
    "    data = np.pad(data, padding, mode='constant', constant_values=(padval, padval))\n",
    "\n",
    "    # tile the filters into an image\n",
    "    data = data.reshape((height, width) + data.shape[1:]).transpose((0, 2, 1, 3) + tuple(range(4, data.ndim + 1)))\n",
    "    data = data.reshape((height * data.shape[1], width * data.shape[3]) + data.shape[4:])\n",
    "\n",
    "    plt.imshow(data)\n",
    "\n",
    "\n",
    "plt.rcParams['figure.figsize'] = (15, 15)\n",
    "imshow_grid(batches[6][0][0], normalize=True)"
   ]
  },
  {
   "cell_type": "code",
   "execution_count": null,
   "metadata": {},
   "outputs": [],
   "source": [
    "import os\n",
    "import filecmp\n",
    "import pandas as pd\n",
    "from tqdm import tqdm_notebook, tnrange\n",
    "from PIL import Image\n",
    "\n",
    "\n",
    "OPEN_IMAGES_PATH = '/media/oem/022cfb2b-3c52-4dfe-a5fb-c5fe826db5e3/openimages/'\n",
    "\n",
    "\n",
    "def get_existing_pictures():\n",
    "    return set([f.split('.')[0] for f in os.listdir(os.path.join(OPEN_IMAGES_PATH, 'images_dataset')) \n",
    "                if f.endswith('.jpg')])\n",
    "\n",
    "\n",
    "def parse_openimages():\n",
    "    annotations_box = pd.read_pickle(os.path.join(OPEN_IMAGES_PATH, 'annotations_box.pickle'))\n",
    "    dict_ = pd.read_pickle(os.path.join(OPEN_IMAGES_PATH, 'dict.pickle'))\n",
    "    \n",
    "    existing_pictures = set([f.split('.')[0] \n",
    "                             for f in os.listdir(os.path.join(OPEN_IMAGES_PATH, 'images_dataset')) \n",
    "                             if f.endswith('.jpg') and f.split('.')[0] in annotations_box.index])\n",
    "    \n",
    "    person_label_names = {\n",
    "        dict_[dict_['label_display_name'] == name].index[0]: name\n",
    "        for name in ['Person', 'Man', 'Woman', 'Boy', 'Girl']\n",
    "    }\n",
    "    \n",
    "    annotations_box = annotations_box[annotations_box['label_name'].isin(person_label_names.keys())]\n",
    "    annotations_box = annotations_box[annotations_box.index.isin(existing_pictures)]\n",
    "    annotations_box = annotations_box.drop(['source', 'confidence', 'is_occluded', \n",
    "                                            'is_truncated', 'is_group_of', 'is_depiction', 'is_inside'], \n",
    "                                           axis=1)\n",
    "    \n",
    "    images = []\n",
    "    for f in tqdm_notebook(existing_pictures):\n",
    "        filtered_annotations_box = annotations_box[annotations_box.index == f]\n",
    "                                                       \n",
    "        if len(filtered_annotations_box) == 0:\n",
    "            continue\n",
    "        \n",
    "        img = {}\n",
    "        image_filename = os.path.join(OPEN_IMAGES_PATH, 'images_dataset', f + '.jpg')\n",
    "        img['filename'] = f + '.jpg'\n",
    "        img['width'], img['height'] = Image.open(image_filename).size\n",
    "\n",
    "        img['object'] = [\n",
    "                {\n",
    "                    'name': 'person',\n",
    "                    'xmin': int(annot_row['x_min'] * img['width']),\n",
    "                    'xmax': int(annot_row['x_max'] * img['width']),\n",
    "                    'ymin': int(annot_row['y_min'] * img['height']),\n",
    "                    'ymax': int(annot_row['y_max'] * img['height'])\n",
    "                }\n",
    "                for _, annot_row in filtered_annotations_box.iterrows()\n",
    "            ]\n",
    "        \n",
    "        images.append(img)\n",
    "        \n",
    "    return images"
   ]
  },
  {
   "cell_type": "code",
   "execution_count": null,
   "metadata": {
    "scrolled": true
   },
   "outputs": [],
   "source": [
    "data = parse_openimages()"
   ]
  },
  {
   "cell_type": "code",
   "execution_count": null,
   "metadata": {},
   "outputs": [],
   "source": [
    "for img in data:\n",
    "    img['filename'] = os.path.join(OPEN_IMAGES_PATH, 'images_dataset', img['filename'])"
   ]
  },
  {
   "cell_type": "code",
   "execution_count": null,
   "metadata": {},
   "outputs": [],
   "source": [
    "def get_existing_files():\n",
    "    return [os.path.join(OPEN_IMAGES_PATH, 'images_dataset', f)\n",
    "            for f in os.listdir(os.path.join(OPEN_IMAGES_PATH, 'images_dataset')) \n",
    "            if f.endswith('.jpg')]\n",
    "\n",
    "error_images = [os.path.join(OPEN_IMAGES_PATH, 'images_dataset', 'flickr_notfound_small.jpg'), \n",
    "                os.path.join(OPEN_IMAGES_PATH, 'images_dataset', 'flickr_notfound_big.jpg')]\n",
    "existing_pictures = get_existing_files()\n",
    "bad_images = set()\n",
    "for image_filename in tqdm_notebook(existing_pictures[:1000]):\n",
    "    try:\n",
    "        image_size = os.stat(image_filename).st_size\n",
    "        assert image_size > 1024  # It must be more than 1Kb\n",
    "        assert not np.any([filecmp.cmp(i, image_filename) for i in error_images])\n",
    "\n",
    "        image = Image.open(image_filename)\n",
    "        image.verify()\n",
    "\n",
    "        assert image.size[0] < 10000 and image.size[1] < 10000  # Too big image for Flickr (likely it is invalid image)\n",
    "    except:\n",
    "        bad_images.add(image_filename)"
   ]
  },
  {
   "cell_type": "code",
   "execution_count": null,
   "metadata": {},
   "outputs": [],
   "source": [
    "import pickle\n",
    "\n",
    "with open(os.path.join(OPEN_IMAGES_PATH, 'images_annotations.pickle'), 'rb') as f:\n",
    "    images = pickle.load(f)"
   ]
  },
  {
   "cell_type": "code",
   "execution_count": null,
   "metadata": {},
   "outputs": [],
   "source": [
    "images_filtered = list(filter(lambda x: len(x['object']) > 1, images))"
   ]
  },
  {
   "cell_type": "code",
   "execution_count": null,
   "metadata": {},
   "outputs": [],
   "source": [
    "len(images_filtered)"
   ]
  },
  {
   "cell_type": "code",
   "execution_count": null,
   "metadata": {},
   "outputs": [],
   "source": [
    "queue_dataset_path = '/media/oem/022cfb2b-3c52-4dfe-a5fb-c5fe826db5e3/Downloads/queue_dataset/'\n",
    "\n",
    "def load_queue_dataset():\n",
    "    images = []\n",
    "    \n",
    "    for folder in os.listdir(queue_dataset_path):\n",
    "        frames_path = os.path.join(queue_dataset_path, folder, 'data/obj/')\n",
    "        \n",
    "        for image_filename in os.listdir(frames_path):\n",
    "            if not image_filename.endswith('jpg'):\n",
    "                continue\n",
    "            image = {}\n",
    "            image['filename'] = os.path.join(frames_path, image_filename)\n",
    "            \n",
    "            \n",
    "            with open(image['filename'][:-4] + '.txt') as f:\n",
    "                reader = csv.reader(f, delimiter=' ')\n",
    "                objects = [list(map(float, row[1:])) for row in reader]\n",
    "                \n",
    "            image['object'] = [{\n",
    "                'name': 'person',\n",
    "                'xmin': int(o[0] * image['width']) - (int(o[2] * image['width']) // 2),\n",
    "                'ymin': int(o[1] * image['height']) - (int(o[3] * image['height']) // 2),\n",
    "                'xmax': int(o[0] * image['width']) + (int(o[2] * image['width']) // 2),\n",
    "                'ymax': int(o[1] * image['height']) + (int(o[3] * image['height']) // 2)\n",
    "            } for o in objects]\n",
    "            \n",
    "            images.append(image)\n",
    "            \n",
    "    return images"
   ]
  },
  {
   "cell_type": "code",
   "execution_count": null,
   "metadata": {},
   "outputs": [],
   "source": [
    "data = load_queue_dataset()"
   ]
  },
  {
   "cell_type": "code",
   "execution_count": null,
   "metadata": {},
   "outputs": [],
   "source": [
    "from scipy.io import loadmat\n",
    "\n",
    "prw_dataset_path = '/media/oem/022cfb2b-3c52-4dfe-a5fb-c5fe826db5e3/Downloads/PRW-v16.04.20/'\n",
    "\n",
    "\n",
    "def load_prw_dataset():\n",
    "    images = []\n",
    "    \n",
    "    for image_filename in tqdm_notebook(os.listdir(os.path.join(prw_dataset_path, 'frames'))):\n",
    "        if not image_filename.endswith('jpg'):\n",
    "            continue\n",
    "            \n",
    "        image = {}\n",
    "        image['filename'] = os.path.join(prw_dataset_path, 'frames', image_filename)\n",
    "        image['width'], image['height'] = Image.open(image['filename']).size\n",
    "        \n",
    "        with open(os.path.join(prw_dataset_path, 'annotations', image_filename + '.mat'), 'rb') as f:\n",
    "            objects = loadmat(f)\n",
    "            if 'box_new' not in objects:\n",
    "                continue\n",
    "                \n",
    "        objects = objects['box_new'][:,1:].astype(np.int)\n",
    "        image['object'] = [{\n",
    "                    'name': 'person',\n",
    "                    'xmin': o[0],\n",
    "                    'ymin': o[1],\n",
    "                    'xmax': o[0] + o[2],\n",
    "                    'ymax': o[1] + o[3] \n",
    "                } for o in objects]\n",
    "        images.append(image)\n",
    "        \n",
    "    return images"
   ]
  },
  {
   "cell_type": "code",
   "execution_count": null,
   "metadata": {},
   "outputs": [],
   "source": [
    "data = load_prw_dataset()"
   ]
  },
  {
   "cell_type": "code",
   "execution_count": null,
   "metadata": {},
   "outputs": [],
   "source": [
    "queue_path = '/media/oem/022cfb2b-3c52-4dfe-a5fb-c5fe826db5e3/samples/peoples/queue_dataset/'"
   ]
  }
 ],
 "metadata": {
  "kernelspec": {
   "display_name": "Python 3",
   "language": "python",
   "name": "python3"
  },
  "language_info": {
   "codemirror_mode": {
    "name": "ipython",
    "version": 3
   },
   "file_extension": ".py",
   "mimetype": "text/x-python",
   "name": "python",
   "nbconvert_exporter": "python",
   "pygments_lexer": "ipython3",
   "version": "3.6.3"
  }
 },
 "nbformat": 4,
 "nbformat_minor": 2
}
