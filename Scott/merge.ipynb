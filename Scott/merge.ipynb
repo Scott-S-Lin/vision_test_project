{
 "cells": [
  {
   "cell_type": "code",
   "execution_count": 4,
   "metadata": {},
   "outputs": [
    {
     "ename": "error",
     "evalue": "OpenCV(3.4.1) C:\\Miniconda3\\conda-bld\\opencv-suite_1533128839831\\work\\modules\\photo\\src\\seamless_cloning.cpp:94: error: (-215) minxd >= 0 && minyd >= 0 && maxxd <= dest.rows && maxyd <= dest.cols in function cv::seamlessClone\n",
     "output_type": "error",
     "traceback": [
      "\u001b[1;31m---------------------------------------------------------------------------\u001b[0m",
      "\u001b[1;31merror\u001b[0m                                     Traceback (most recent call last)",
      "\u001b[1;32m<ipython-input-4-fc2d7f6cc214>\u001b[0m in \u001b[0;36m<module>\u001b[1;34m\u001b[0m\n\u001b[0;32m     19\u001b[0m \u001b[1;33m\u001b[0m\u001b[0m\n\u001b[0;32m     20\u001b[0m \u001b[1;31m# Clone seamlessly.\u001b[0m\u001b[1;33m\u001b[0m\u001b[1;33m\u001b[0m\u001b[1;33m\u001b[0m\u001b[0m\n\u001b[1;32m---> 21\u001b[1;33m \u001b[0moutput\u001b[0m \u001b[1;33m=\u001b[0m \u001b[0mcv2\u001b[0m\u001b[1;33m.\u001b[0m\u001b[0mseamlessClone\u001b[0m\u001b[1;33m(\u001b[0m\u001b[0msrc\u001b[0m\u001b[1;33m,\u001b[0m \u001b[0mdst\u001b[0m\u001b[1;33m,\u001b[0m \u001b[0msrc_mask\u001b[0m\u001b[1;33m,\u001b[0m \u001b[0mcenter\u001b[0m\u001b[1;33m,\u001b[0m \u001b[0mcv2\u001b[0m\u001b[1;33m.\u001b[0m\u001b[0mNORMAL_CLONE\u001b[0m\u001b[1;33m)\u001b[0m\u001b[1;33m\u001b[0m\u001b[1;33m\u001b[0m\u001b[0m\n\u001b[0m\u001b[0;32m     22\u001b[0m \u001b[1;33m\u001b[0m\u001b[0m\n\u001b[0;32m     23\u001b[0m \u001b[1;31m# 保存结果\u001b[0m\u001b[1;33m\u001b[0m\u001b[1;33m\u001b[0m\u001b[1;33m\u001b[0m\u001b[0m\n",
      "\u001b[1;31merror\u001b[0m: OpenCV(3.4.1) C:\\Miniconda3\\conda-bld\\opencv-suite_1533128839831\\work\\modules\\photo\\src\\seamless_cloning.cpp:94: error: (-215) minxd >= 0 && minyd >= 0 && maxxd <= dest.rows && maxyd <= dest.cols in function cv::seamlessClone\n"
     ]
    }
   ],
   "source": [
    "# Standard imports\n",
    "import cv2\n",
    "import numpy as np \n",
    "\n",
    "# Read images\n",
    "src = cv2.imread(\"1.jpg\")\n",
    "dst = cv2.imread(\"2.jpg\")\n",
    "\n",
    "# Create a rough mask around the airplane.\n",
    "src_mask = np.zeros(src.shape, src.dtype)\n",
    "\n",
    "# 当然我们比较懒得话，就不需要下面两行，只是效果差一点。\n",
    "# 不使用的话我们得将上面一行改为 mask = 255 * np.ones(obj.shape, obj.dtype) <-- 全白\n",
    "poly = np.array([ [4,80], [30,54], [151,63], [254,37], [298,90], [272,134], [43,122] ], np.int32)\n",
    "cv2.fillPoly(src_mask, [poly], (255, 255, 255))\n",
    "\n",
    "# 这是 飞机 CENTER 所在的地方\n",
    "center = (80,10)\n",
    "\n",
    "# Clone seamlessly.\n",
    "output = cv2.seamlessClone(src, dst, src_mask, center, cv2.NORMAL_CLONE)\n",
    "\n",
    "# 保存结果\n",
    "cv2.imwrite(\"3-cloning-example.jpg\", output);"
   ]
  },
  {
   "cell_type": "code",
   "execution_count": null,
   "metadata": {},
   "outputs": [],
   "source": []
  }
 ],
 "metadata": {
  "kernelspec": {
   "display_name": "Python 3",
   "language": "python",
   "name": "python3"
  },
  "language_info": {
   "codemirror_mode": {
    "name": "ipython",
    "version": 3
   },
   "file_extension": ".py",
   "mimetype": "text/x-python",
   "name": "python",
   "nbconvert_exporter": "python",
   "pygments_lexer": "ipython3",
   "version": "3.7.3"
  }
 },
 "nbformat": 4,
 "nbformat_minor": 2
}
